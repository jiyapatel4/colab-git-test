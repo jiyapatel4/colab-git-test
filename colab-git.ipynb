{
  "nbformat": 4,
  "nbformat_minor": 0,
  "metadata": {
    "colab": {
      "provenance": [],
      "authorship_tag": "ABX9TyMLIYMOEo2RLRntqcfkadtl"
    },
    "kernelspec": {
      "name": "python3",
      "display_name": "Python 3"
    },
    "language_info": {
      "name": "python"
    }
  },
  "cells": [
    {
      "cell_type": "code",
      "execution_count": null,
      "metadata": {
        "id": "k0LuDKPNwWNv"
      },
      "outputs": [],
      "source": [
        "# test #2\n",
        "# test #3\n",
        "# test #4\n",
        "# test #5\n",
        "# meryem"
      ]
    }
  ]
}